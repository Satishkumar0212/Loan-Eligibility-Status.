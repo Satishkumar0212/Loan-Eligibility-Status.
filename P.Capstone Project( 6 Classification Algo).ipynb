{
 "cells": [
  {
   "cell_type": "markdown",
   "id": "943ba72d",
   "metadata": {},
   "source": [
    "### Business Problem Understanding"
   ]
  },
  {
   "cell_type": "markdown",
   "id": "09ba3907",
   "metadata": {},
   "source": [
    "#### Dream Housing Finance company deals in all kinds of home loans .they have presence across All uraban,semi urban and rural Areas. Customer first applies for home loan and after that company validates the customer eligibility for Loan.\n",
    "Company wants to automate the loan eligibility process(real time) based on customer detail provided while filling online applications form .these details are Gender ,Marital Status,\n",
    "Education, Number of dependents,income ,loan Amount  ,Credit History and others.To automate this process,they provided a data set to identify the customer segments that are eligible for loan so that can specifically target the these customers,"
   ]
  },
  {
   "cell_type": "code",
   "execution_count": 1,
   "id": "16a91f24",
   "metadata": {},
   "outputs": [],
   "source": [
    "import numpy as np\n",
    "import pandas as pd\n",
    "import matplotlib.pyplot as plt\n",
    "import seaborn as sns\n",
    "\n",
    "import warnings\n",
    "warnings.simplefilter (\"ignore\")"
   ]
  },
  {
   "cell_type": "code",
   "execution_count": 2,
   "id": "3c9b0b33",
   "metadata": {},
   "outputs": [],
   "source": [
    "df=pd.read_csv(r\"C:\\Users\\satis_asxzdl9\\Downloads\\LoanData.csv\")"
   ]
  },
  {
   "cell_type": "code",
   "execution_count": 3,
   "id": "22859256",
   "metadata": {},
   "outputs": [
    {
     "data": {
      "text/html": [
       "<div>\n",
       "<style scoped>\n",
       "    .dataframe tbody tr th:only-of-type {\n",
       "        vertical-align: middle;\n",
       "    }\n",
       "\n",
       "    .dataframe tbody tr th {\n",
       "        vertical-align: top;\n",
       "    }\n",
       "\n",
       "    .dataframe thead th {\n",
       "        text-align: right;\n",
       "    }\n",
       "</style>\n",
       "<table border=\"1\" class=\"dataframe\">\n",
       "  <thead>\n",
       "    <tr style=\"text-align: right;\">\n",
       "      <th></th>\n",
       "      <th>Loan_ID</th>\n",
       "      <th>Gender</th>\n",
       "      <th>Married</th>\n",
       "      <th>Dependents</th>\n",
       "      <th>Education</th>\n",
       "      <th>Self_Employed</th>\n",
       "      <th>ApplicantIncome</th>\n",
       "      <th>CoapplicantIncome</th>\n",
       "      <th>LoanAmount</th>\n",
       "      <th>Loan_Amount_Term</th>\n",
       "      <th>Credit_History</th>\n",
       "      <th>Property_Area</th>\n",
       "      <th>Loan_Status</th>\n",
       "    </tr>\n",
       "  </thead>\n",
       "  <tbody>\n",
       "    <tr>\n",
       "      <th>0</th>\n",
       "      <td>LP001002</td>\n",
       "      <td>Male</td>\n",
       "      <td>No</td>\n",
       "      <td>0</td>\n",
       "      <td>Graduate</td>\n",
       "      <td>No</td>\n",
       "      <td>5849</td>\n",
       "      <td>0.0</td>\n",
       "      <td>NaN</td>\n",
       "      <td>360.0</td>\n",
       "      <td>1.0</td>\n",
       "      <td>Urban</td>\n",
       "      <td>Y</td>\n",
       "    </tr>\n",
       "    <tr>\n",
       "      <th>1</th>\n",
       "      <td>LP001003</td>\n",
       "      <td>Male</td>\n",
       "      <td>Yes</td>\n",
       "      <td>1</td>\n",
       "      <td>Graduate</td>\n",
       "      <td>No</td>\n",
       "      <td>4583</td>\n",
       "      <td>1508.0</td>\n",
       "      <td>128.0</td>\n",
       "      <td>360.0</td>\n",
       "      <td>1.0</td>\n",
       "      <td>Rural</td>\n",
       "      <td>N</td>\n",
       "    </tr>\n",
       "    <tr>\n",
       "      <th>2</th>\n",
       "      <td>LP001005</td>\n",
       "      <td>Male</td>\n",
       "      <td>Yes</td>\n",
       "      <td>0</td>\n",
       "      <td>Graduate</td>\n",
       "      <td>Yes</td>\n",
       "      <td>3000</td>\n",
       "      <td>0.0</td>\n",
       "      <td>66.0</td>\n",
       "      <td>360.0</td>\n",
       "      <td>1.0</td>\n",
       "      <td>Urban</td>\n",
       "      <td>Y</td>\n",
       "    </tr>\n",
       "    <tr>\n",
       "      <th>3</th>\n",
       "      <td>LP001006</td>\n",
       "      <td>Male</td>\n",
       "      <td>Yes</td>\n",
       "      <td>0</td>\n",
       "      <td>Not Graduate</td>\n",
       "      <td>No</td>\n",
       "      <td>2583</td>\n",
       "      <td>2358.0</td>\n",
       "      <td>120.0</td>\n",
       "      <td>360.0</td>\n",
       "      <td>1.0</td>\n",
       "      <td>Urban</td>\n",
       "      <td>Y</td>\n",
       "    </tr>\n",
       "    <tr>\n",
       "      <th>4</th>\n",
       "      <td>LP001008</td>\n",
       "      <td>Male</td>\n",
       "      <td>No</td>\n",
       "      <td>0</td>\n",
       "      <td>Graduate</td>\n",
       "      <td>No</td>\n",
       "      <td>6000</td>\n",
       "      <td>0.0</td>\n",
       "      <td>141.0</td>\n",
       "      <td>360.0</td>\n",
       "      <td>1.0</td>\n",
       "      <td>Urban</td>\n",
       "      <td>Y</td>\n",
       "    </tr>\n",
       "  </tbody>\n",
       "</table>\n",
       "</div>"
      ],
      "text/plain": [
       "    Loan_ID Gender Married Dependents     Education Self_Employed  \\\n",
       "0  LP001002   Male      No          0      Graduate            No   \n",
       "1  LP001003   Male     Yes          1      Graduate            No   \n",
       "2  LP001005   Male     Yes          0      Graduate           Yes   \n",
       "3  LP001006   Male     Yes          0  Not Graduate            No   \n",
       "4  LP001008   Male      No          0      Graduate            No   \n",
       "\n",
       "   ApplicantIncome  CoapplicantIncome  LoanAmount  Loan_Amount_Term  \\\n",
       "0             5849                0.0         NaN             360.0   \n",
       "1             4583             1508.0       128.0             360.0   \n",
       "2             3000                0.0        66.0             360.0   \n",
       "3             2583             2358.0       120.0             360.0   \n",
       "4             6000                0.0       141.0             360.0   \n",
       "\n",
       "   Credit_History Property_Area Loan_Status  \n",
       "0             1.0         Urban           Y  \n",
       "1             1.0         Rural           N  \n",
       "2             1.0         Urban           Y  \n",
       "3             1.0         Urban           Y  \n",
       "4             1.0         Urban           Y  "
      ]
     },
     "execution_count": 3,
     "metadata": {},
     "output_type": "execute_result"
    }
   ],
   "source": [
    "df.head()"
   ]
  },
  {
   "cell_type": "code",
   "execution_count": 4,
   "id": "654b0bcd",
   "metadata": {},
   "outputs": [
    {
     "name": "stdout",
     "output_type": "stream",
     "text": [
      "<class 'pandas.core.frame.DataFrame'>\n",
      "RangeIndex: 614 entries, 0 to 613\n",
      "Data columns (total 13 columns):\n",
      " #   Column             Non-Null Count  Dtype  \n",
      "---  ------             --------------  -----  \n",
      " 0   Loan_ID            614 non-null    object \n",
      " 1   Gender             601 non-null    object \n",
      " 2   Married            611 non-null    object \n",
      " 3   Dependents         599 non-null    object \n",
      " 4   Education          614 non-null    object \n",
      " 5   Self_Employed      582 non-null    object \n",
      " 6   ApplicantIncome    614 non-null    int64  \n",
      " 7   CoapplicantIncome  614 non-null    float64\n",
      " 8   LoanAmount         592 non-null    float64\n",
      " 9   Loan_Amount_Term   600 non-null    float64\n",
      " 10  Credit_History     564 non-null    float64\n",
      " 11  Property_Area      614 non-null    object \n",
      " 12  Loan_Status        614 non-null    object \n",
      "dtypes: float64(4), int64(1), object(8)\n",
      "memory usage: 62.5+ KB\n"
     ]
    }
   ],
   "source": [
    "df.info()"
   ]
  },
  {
   "cell_type": "code",
   "execution_count": 5,
   "id": "1878bbf0",
   "metadata": {},
   "outputs": [
    {
     "data": {
      "text/plain": [
       "Index(['Loan_ID', 'Gender', 'Married', 'Dependents', 'Education',\n",
       "       'Self_Employed', 'ApplicantIncome', 'CoapplicantIncome', 'LoanAmount',\n",
       "       'Loan_Amount_Term', 'Credit_History', 'Property_Area', 'Loan_Status'],\n",
       "      dtype='object')"
      ]
     },
     "execution_count": 5,
     "metadata": {},
     "output_type": "execute_result"
    }
   ],
   "source": [
    "#lets check the column names present in the  dataset\n",
    "df.columns"
   ]
  },
  {
   "cell_type": "markdown",
   "id": "82359b5f",
   "metadata": {},
   "source": [
    "### Data understanding"
   ]
  },
  {
   "cell_type": "markdown",
   "id": "c915bdfc",
   "metadata": {},
   "source": [
    "### Loan ID Unique Loan ID\n",
    "\n",
    "Gender: Male/Female\n",
    "\n",
    "Married Applicant married\n",
    "\n",
    "Dependents: Number of dependents\n",
    "\n",
    "Education: Applicant Education\n",
    "\n",
    "Self Employed whether the applicant is Self employed\n",
    "\n",
    "Applicantincome: Applicant income\n",
    "\n",
    "Coapplicantincome: Coapplicant income\n",
    "\n",
    "LoanAmount: Loan amount in thousands\n",
    "\n",
    "Loan Amount Term: Term of loan in months\n",
    "\n",
    "Credit History credit history meets guidelines\n",
    "\n",
    "Property Area: Urban/ Semi Urban/ Rural\n",
    "\n",
    "Loan Status: Loan approved target variable\n"
   ]
  },
  {
   "cell_type": "code",
   "execution_count": 6,
   "id": "c0703687",
   "metadata": {},
   "outputs": [
    {
     "data": {
      "text/plain": [
       "614"
      ]
     },
     "execution_count": 6,
     "metadata": {},
     "output_type": "execute_result"
    }
   ],
   "source": [
    "df['Loan_ID'].nunique()"
   ]
  },
  {
   "cell_type": "code",
   "execution_count": 7,
   "id": "a0b7a3a0",
   "metadata": {},
   "outputs": [],
   "source": [
    "df.drop(columns=['Loan_ID'],inplace=True)"
   ]
  },
  {
   "cell_type": "code",
   "execution_count": 8,
   "id": "2429fe17",
   "metadata": {},
   "outputs": [
    {
     "data": {
      "text/plain": [
       "array(['Male', 'Female', nan], dtype=object)"
      ]
     },
     "execution_count": 8,
     "metadata": {},
     "output_type": "execute_result"
    }
   ],
   "source": [
    "df['Gender'].unique()"
   ]
  },
  {
   "cell_type": "code",
   "execution_count": 9,
   "id": "5ff9cbed",
   "metadata": {},
   "outputs": [
    {
     "data": {
      "text/plain": [
       "Gender\n",
       "Male      489\n",
       "Female    112\n",
       "Name: count, dtype: int64"
      ]
     },
     "execution_count": 9,
     "metadata": {},
     "output_type": "execute_result"
    }
   ],
   "source": [
    "df['Gender'].value_counts()"
   ]
  },
  {
   "cell_type": "code",
   "execution_count": 10,
   "id": "e7b4ae90",
   "metadata": {},
   "outputs": [
    {
     "data": {
      "text/plain": [
       "array(['No', 'Yes', nan], dtype=object)"
      ]
     },
     "execution_count": 10,
     "metadata": {},
     "output_type": "execute_result"
    }
   ],
   "source": [
    "df['Married'].unique()"
   ]
  },
  {
   "cell_type": "code",
   "execution_count": 11,
   "id": "ddc9f63c",
   "metadata": {},
   "outputs": [
    {
     "data": {
      "text/plain": [
       "Married\n",
       "Yes    398\n",
       "No     213\n",
       "Name: count, dtype: int64"
      ]
     },
     "execution_count": 11,
     "metadata": {},
     "output_type": "execute_result"
    }
   ],
   "source": [
    "df['Married'].value_counts()"
   ]
  },
  {
   "cell_type": "code",
   "execution_count": 12,
   "id": "1e33b044",
   "metadata": {},
   "outputs": [
    {
     "data": {
      "text/plain": [
       "4"
      ]
     },
     "execution_count": 12,
     "metadata": {},
     "output_type": "execute_result"
    }
   ],
   "source": [
    "df['Dependents'].nunique()"
   ]
  },
  {
   "cell_type": "code",
   "execution_count": 13,
   "id": "ab8b2218",
   "metadata": {},
   "outputs": [
    {
     "data": {
      "text/plain": [
       "Dependents\n",
       "0     345\n",
       "1     102\n",
       "2     101\n",
       "3+     51\n",
       "Name: count, dtype: int64"
      ]
     },
     "execution_count": 13,
     "metadata": {},
     "output_type": "execute_result"
    }
   ],
   "source": [
    "df['Dependents'].value_counts()"
   ]
  },
  {
   "cell_type": "code",
   "execution_count": 14,
   "id": "59c09f43",
   "metadata": {},
   "outputs": [
    {
     "data": {
      "text/plain": [
       "2"
      ]
     },
     "execution_count": 14,
     "metadata": {},
     "output_type": "execute_result"
    }
   ],
   "source": [
    "df['Education'].nunique()"
   ]
  },
  {
   "cell_type": "code",
   "execution_count": 15,
   "id": "84cfa8d5",
   "metadata": {},
   "outputs": [
    {
     "data": {
      "text/plain": [
       "Education\n",
       "Graduate        480\n",
       "Not Graduate    134\n",
       "Name: count, dtype: int64"
      ]
     },
     "execution_count": 15,
     "metadata": {},
     "output_type": "execute_result"
    }
   ],
   "source": [
    "df['Education'].value_counts()"
   ]
  },
  {
   "cell_type": "code",
   "execution_count": 16,
   "id": "9495ba4c",
   "metadata": {},
   "outputs": [
    {
     "data": {
      "text/plain": [
       "2"
      ]
     },
     "execution_count": 16,
     "metadata": {},
     "output_type": "execute_result"
    }
   ],
   "source": [
    "df['Self_Employed'].nunique()"
   ]
  },
  {
   "cell_type": "code",
   "execution_count": 17,
   "id": "fe933179",
   "metadata": {},
   "outputs": [
    {
     "data": {
      "text/plain": [
       "Self_Employed\n",
       "No     500\n",
       "Yes     82\n",
       "Name: count, dtype: int64"
      ]
     },
     "execution_count": 17,
     "metadata": {},
     "output_type": "execute_result"
    }
   ],
   "source": [
    "df['Self_Employed'].value_counts()"
   ]
  },
  {
   "cell_type": "code",
   "execution_count": 18,
   "id": "180e18a0",
   "metadata": {},
   "outputs": [
    {
     "data": {
      "text/plain": [
       "array([ 5849,  4583,  3000,  2583,  6000,  5417,  2333,  3036,  4006,\n",
       "       12841,  3200,  2500,  3073,  1853,  1299,  4950,  3596,  3510,\n",
       "        4887,  2600,  7660,  5955,  3365,  3717,  9560,  2799,  4226,\n",
       "        1442,  3750,  4166,  3167,  4692,  3500, 12500,  2275,  1828,\n",
       "        3667,  3748,  3600,  1800,  2400,  3941,  4695,  3410,  5649,\n",
       "        5821,  2645,  4000,  1928,  3086,  4230,  4616, 11500,  2708,\n",
       "        2132,  3366,  8080,  3357,  3029,  2609,  4945,  5726, 10750,\n",
       "        7100,  4300,  3208,  1875,  4755,  5266,  1000,  3333,  3846,\n",
       "        2395,  1378,  3988,  2366,  8566,  5695,  2958,  6250,  3273,\n",
       "        4133,  3620,  6782,  2484,  1977,  4188,  1759,  4288,  4843,\n",
       "       13650,  4652,  3816,  3052, 11417,  7333,  3800,  2071,  5316,\n",
       "        2929,  3572,  7451,  5050, 14583,  2214,  5568, 10408,  5667,\n",
       "        2137,  2957,  3692, 23803,  3865, 10513,  6080, 20166,  2014,\n",
       "        2718,  3459,  4895,  3316, 14999,  4200,  5042,  6950,  2698,\n",
       "       11757,  2330, 14866,  1538, 10000,  4860,  6277,  2577,  9166,\n",
       "        2281,  3254, 39999,  9538,  2980,  1863,  7933,  3089,  4167,\n",
       "        9323,  3707,  2439,  2237,  8000,  1820, 51763,  3522,  5708,\n",
       "        4344,  3497,  2045,  5516,  6400,  1916,  4600, 33846,  3625,\n",
       "       39147,  2178,  2383,   674,  9328,  4885, 12000,  6033,  3858,\n",
       "        4191,  3125,  8333,  1907,  3416, 11000,  4923,  3992,  3917,\n",
       "        4408,  3244,  3975,  2479,  3418,  3430,  7787,  5703,  3173,\n",
       "        3850,   150,  3727,  5000,  4283,  2221,  4009,  2971,  7578,\n",
       "        3250,  4735,  4758,  2491,  3716,  3189,  3155,  5500,  5746,\n",
       "        3463,  3812,  3315,  5819,  2510,  2965,  3406,  6050,  9703,\n",
       "        6608,  2882,  1809,  1668,  3427,  2661, 16250,  3083,  6045,\n",
       "        5250, 14683,  4931,  6083,  2060,  3481,  7200,  5166,  4095,\n",
       "        4708,  4333,  2876,  3237, 11146,  2833,  2620,  3900,  2750,\n",
       "        3993,  3103,  4100,  4053,  3927,  2301,  1811, 20667,  3158,\n",
       "        3704,  4124,  9508,  3075,  4400,  3153,  4416,  6875,  4666,\n",
       "        2875,  1625,  2000,  3762, 20233,  7667,  2917,  2927,  2507,\n",
       "        2473,  3399,  2058,  3541,  4342,  3601,  3166, 15000,  8666,\n",
       "        4917,  5818,  4384,  2935, 63337,  9833,  5503,  1830,  4160,\n",
       "        2647,  2378,  4554,  2499,  3523,  6333,  2625,  9083,  8750,\n",
       "        2666,  2423,  3813,  3875,  5167,  4723,  4750,  3013,  6822,\n",
       "        6216,  5124,  6325, 19730, 15759,  5185,  3062,  2764,  4817,\n",
       "        4310,  3069,  5391,  5941,  7167,  4566,  2346,  3010,  5488,\n",
       "        9167,  9504,  1993,  3100,  3276,  3180,  3033,  3902,  1500,\n",
       "        2889,  2755,  1963,  7441,  4547,  2167,  2213,  8300, 81000,\n",
       "        3867,  6256,  6096,  2253,  2149,  2995,  1600,  1025,  3246,\n",
       "        5829,  2720,  7250, 14880,  4606,  5935,  2920,  2717,  8624,\n",
       "        6500, 12876,  2425, 10047,  1926, 10416,  7142,  3660,  7901,\n",
       "        4707, 37719,  3466,  3539,  3340,  2769,  2309,  1958,  3948,\n",
       "        2483,  7085,  3859,  4301,  3708,  4354,  8334,  2083,  7740,\n",
       "        3015,  5191,  2947, 16692,   210,  3450,  2653,  4691,  5532,\n",
       "       16525,  6700,  2873, 16667,  4350,  3095, 10833,  3547, 18333,\n",
       "        2435,  2699,  5333,  3691, 17263,  3597,  3326,  4625,  2895,\n",
       "        6283,   645,  3159,  4865,  4050,  3814, 20833,  3583, 13262,\n",
       "        3598,  6065,  3283,  2130,  5815,  2031,  3074,  4683,  3400,\n",
       "        2192,  5677,  7948,  4680, 17500,  3775,  5285,  2679,  6783,\n",
       "        4281,  3588, 11250, 18165,  2550,  6133,  3617,  6417,  4608,\n",
       "        2138,  3652,  2239,  3017,  2768,  3358,  2526,  2785,  6633,\n",
       "        2492,  2454,  3593,  5468,  2667, 10139,  3887,  4180,  3675,\n",
       "       19484,  5923,  5800,  8799,  4467,  3417,  5116, 16666,  6125,\n",
       "        6406,  3087,  3229,  1782,  3182,  6540,  1836,  1880,  2787,\n",
       "        2297,  2165,  2726,  9357, 16120,  3833,  6383,  2987,  9963,\n",
       "        5780,   416,  2894,  3676,  3987,  3232,  2900,  4106,  8072,\n",
       "        7583], dtype=int64)"
      ]
     },
     "execution_count": 18,
     "metadata": {},
     "output_type": "execute_result"
    }
   ],
   "source": [
    "df['ApplicantIncome'].unique()"
   ]
  },
  {
   "cell_type": "code",
   "execution_count": 19,
   "id": "ba209987",
   "metadata": {},
   "outputs": [
    {
     "data": {
      "text/plain": [
       "ApplicantIncome\n",
       "2500    9\n",
       "4583    6\n",
       "6000    6\n",
       "2600    6\n",
       "3333    5\n",
       "       ..\n",
       "3244    1\n",
       "4408    1\n",
       "3917    1\n",
       "3992    1\n",
       "7583    1\n",
       "Name: count, Length: 505, dtype: int64"
      ]
     },
     "execution_count": 19,
     "metadata": {},
     "output_type": "execute_result"
    }
   ],
   "source": [
    "df['ApplicantIncome'].value_counts()"
   ]
  },
  {
   "cell_type": "code",
   "execution_count": 20,
   "id": "66327ccf",
   "metadata": {},
   "outputs": [
    {
     "data": {
      "text/plain": [
       "array([0.00000000e+00, 1.50800000e+03, 2.35800000e+03, 4.19600000e+03,\n",
       "       1.51600000e+03, 2.50400000e+03, 1.52600000e+03, 1.09680000e+04,\n",
       "       7.00000000e+02, 1.84000000e+03, 8.10600000e+03, 2.84000000e+03,\n",
       "       1.08600000e+03, 3.50000000e+03, 5.62500000e+03, 1.91100000e+03,\n",
       "       1.91700000e+03, 2.92500000e+03, 2.25300000e+03, 1.04000000e+03,\n",
       "       2.08300000e+03, 3.36900000e+03, 1.66700000e+03, 3.00000000e+03,\n",
       "       2.06700000e+03, 1.33000000e+03, 1.45900000e+03, 7.21000000e+03,\n",
       "       1.66800000e+03, 1.21300000e+03, 2.33600000e+03, 3.44000000e+03,\n",
       "       2.27500000e+03, 1.64400000e+03, 1.16700000e+03, 1.59100000e+03,\n",
       "       2.20000000e+03, 2.25000000e+03, 2.85900000e+03, 3.79600000e+03,\n",
       "       3.44900000e+03, 4.59500000e+03, 2.25400000e+03, 3.06600000e+03,\n",
       "       1.87500000e+03, 1.77400000e+03, 4.75000000e+03, 3.02200000e+03,\n",
       "       4.00000000e+03, 2.16600000e+03, 1.88100000e+03, 2.53100000e+03,\n",
       "       2.00000000e+03, 2.11800000e+03, 4.16700000e+03, 2.90000000e+03,\n",
       "       5.65400000e+03, 1.82000000e+03, 2.30200000e+03, 9.97000000e+02,\n",
       "       3.54100000e+03, 3.26300000e+03, 3.80600000e+03, 3.58300000e+03,\n",
       "       7.54000000e+02, 1.03000000e+03, 1.12600000e+03, 3.60000000e+03,\n",
       "       2.33300000e+03, 4.11400000e+03, 2.28300000e+03, 1.39800000e+03,\n",
       "       2.14200000e+03, 2.66700000e+03, 8.98000000e+03, 2.01400000e+03,\n",
       "       1.64000000e+03, 3.85000000e+03, 2.56900000e+03, 1.92900000e+03,\n",
       "       7.75000000e+03, 1.43000000e+03, 2.03400000e+03, 4.48600000e+03,\n",
       "       1.42500000e+03, 1.66600000e+03, 8.30000000e+02, 3.75000000e+03,\n",
       "       1.04100000e+03, 1.28000000e+03, 1.44700000e+03, 3.16600000e+03,\n",
       "       3.33300000e+03, 1.76900000e+03, 7.36000000e+02, 1.96400000e+03,\n",
       "       1.61900000e+03, 1.13000000e+04, 1.45100000e+03, 7.25000000e+03,\n",
       "       5.06300000e+03, 2.13800000e+03, 5.29600000e+03, 2.58300000e+03,\n",
       "       2.36500000e+03, 2.81600000e+03, 2.50000000e+03, 1.08300000e+03,\n",
       "       1.25000000e+03, 3.02100000e+03, 9.83000000e+02, 1.80000000e+03,\n",
       "       1.77500000e+03, 2.38300000e+03, 1.71700000e+03, 2.79100000e+03,\n",
       "       1.01000000e+03, 1.69500000e+03, 2.05400000e+03, 2.59800000e+03,\n",
       "       1.77900000e+03, 1.26000000e+03, 5.00000000e+03, 1.98300000e+03,\n",
       "       5.70100000e+03, 1.30000000e+03, 4.41700000e+03, 4.33300000e+03,\n",
       "       1.84300000e+03, 1.86800000e+03, 3.89000000e+03, 2.16700000e+03,\n",
       "       7.10100000e+03, 2.10000000e+03, 4.25000000e+03, 2.20900000e+03,\n",
       "       3.44700000e+03, 1.38700000e+03, 1.81100000e+03, 1.56000000e+03,\n",
       "       1.85700000e+03, 2.22300000e+03, 1.84200000e+03, 3.27400000e+03,\n",
       "       2.42600000e+03, 8.00000000e+02, 9.85799988e+02, 3.05300000e+03,\n",
       "       2.41600000e+03, 3.33400000e+03, 2.54100000e+03, 2.93400000e+03,\n",
       "       1.75000000e+03, 1.80300000e+03, 1.86300000e+03, 2.40500000e+03,\n",
       "       2.13400000e+03, 1.89000000e+02, 1.59000000e+03, 2.98500000e+03,\n",
       "       4.98300000e+03, 2.16000000e+03, 2.45100000e+03, 1.79300000e+03,\n",
       "       1.83300000e+03, 4.49000000e+03, 6.88000000e+02, 4.60000000e+03,\n",
       "       1.58700000e+03, 1.22900000e+03, 2.33000000e+03, 2.45800000e+03,\n",
       "       3.23000000e+03, 2.16800000e+03, 4.58300000e+03, 6.25000000e+03,\n",
       "       5.05000000e+02, 3.16700000e+03, 3.66700000e+03, 3.03300000e+03,\n",
       "       5.26600000e+03, 7.87300000e+03, 1.98700000e+03, 9.23000000e+02,\n",
       "       4.99600000e+03, 4.23200000e+03, 1.60000000e+03, 3.13600000e+03,\n",
       "       2.41700000e+03, 2.11500000e+03, 1.62500000e+03, 1.40000000e+03,\n",
       "       4.84000000e+02, 2.00000000e+04, 2.40000000e+03, 2.03300000e+03,\n",
       "       3.23700000e+03, 2.77300000e+03, 1.41700000e+03, 1.71900000e+03,\n",
       "       4.30000000e+03, 1.61200008e+01, 2.34000000e+03, 1.85100000e+03,\n",
       "       1.12500000e+03, 5.06400000e+03, 1.99300000e+03, 8.33300000e+03,\n",
       "       1.21000000e+03, 1.37600000e+03, 1.71000000e+03, 1.54200000e+03,\n",
       "       1.25500000e+03, 1.45600000e+03, 1.73300000e+03, 2.46600000e+03,\n",
       "       4.08300000e+03, 2.18800000e+03, 1.66400000e+03, 2.91700000e+03,\n",
       "       2.07900000e+03, 1.50000000e+03, 4.64800000e+03, 1.01400000e+03,\n",
       "       1.87200000e+03, 1.60300000e+03, 3.15000000e+03, 2.43600000e+03,\n",
       "       2.78500000e+03, 1.13100000e+03, 2.15700000e+03, 9.13000000e+02,\n",
       "       1.70000000e+03, 2.85700000e+03, 4.41600000e+03, 3.68300000e+03,\n",
       "       5.62400000e+03, 5.30200000e+03, 1.48300000e+03, 6.66700000e+03,\n",
       "       3.01300000e+03, 1.28700000e+03, 2.00400000e+03, 2.03500000e+03,\n",
       "       6.66600000e+03, 3.66600000e+03, 3.42800000e+03, 1.63200000e+03,\n",
       "       1.91500000e+03, 1.74200000e+03, 1.42400000e+03, 7.16600000e+03,\n",
       "       2.08700000e+03, 1.30200000e+03, 5.50000000e+03, 2.04200000e+03,\n",
       "       3.90600000e+03, 5.36000000e+02, 2.84500000e+03, 2.52400000e+03,\n",
       "       6.63000000e+02, 1.95000000e+03, 1.78300000e+03, 2.01600000e+03,\n",
       "       2.37500000e+03, 3.25000000e+03, 4.26600000e+03, 1.03200000e+03,\n",
       "       2.66900000e+03, 2.30600000e+03, 2.42000000e+02, 2.06400000e+03,\n",
       "       4.61000000e+02, 2.21000000e+03, 2.73900000e+03, 2.23200000e+03,\n",
       "       3.38370000e+04, 1.52200000e+03, 3.41600000e+03, 3.30000000e+03,\n",
       "       1.00000000e+03, 4.16670000e+04, 2.79200000e+03, 4.30100000e+03,\n",
       "       3.80000000e+03, 1.41100000e+03, 2.40000000e+02])"
      ]
     },
     "execution_count": 20,
     "metadata": {},
     "output_type": "execute_result"
    }
   ],
   "source": [
    "df['CoapplicantIncome'].unique()"
   ]
  },
  {
   "cell_type": "code",
   "execution_count": 21,
   "id": "65b37968",
   "metadata": {},
   "outputs": [
    {
     "data": {
      "text/plain": [
       "array([ nan, 128.,  66., 120., 141., 267.,  95., 158., 168., 349.,  70.,\n",
       "       109., 200., 114.,  17., 125., 100.,  76., 133., 115., 104., 315.,\n",
       "       116., 112., 151., 191., 122., 110.,  35., 201.,  74., 106., 320.,\n",
       "       144., 184.,  80.,  47.,  75., 134.,  96.,  88.,  44., 286.,  97.,\n",
       "       135., 180.,  99., 165., 258., 126., 312., 136., 172.,  81., 187.,\n",
       "       113., 176., 130., 111., 167., 265.,  50., 210., 175., 131., 188.,\n",
       "        25., 137., 160., 225., 216.,  94., 139., 152., 118., 185., 154.,\n",
       "        85., 259., 194.,  93., 370., 182., 650., 102., 290.,  84., 242.,\n",
       "       129.,  30., 244., 600., 255.,  98., 275., 121.,  63., 700.,  87.,\n",
       "       101., 495.,  67.,  73., 260., 108.,  58.,  48., 164., 170.,  83.,\n",
       "        90., 166., 124.,  55.,  59., 127., 214., 240.,  72.,  60., 138.,\n",
       "        42., 280., 140., 155., 123., 279., 192., 304., 330., 150., 207.,\n",
       "       436.,  78.,  54.,  89., 143., 105., 132., 480.,  56., 159., 300.,\n",
       "       376., 117.,  71., 490., 173.,  46., 228., 308., 236., 570., 380.,\n",
       "       296., 156., 103.,  45.,  65.,  53., 360.,  62., 218., 178., 239.,\n",
       "       405., 148., 190., 149., 153., 162., 230.,  86., 234., 246., 500.,\n",
       "       186., 119., 107., 209., 208., 243.,  40., 250., 311., 400., 161.,\n",
       "       196., 324., 157., 145., 181.,  26., 211.,   9., 205.,  36.,  61.,\n",
       "       146., 292., 142., 350., 496., 253.])"
      ]
     },
     "execution_count": 21,
     "metadata": {},
     "output_type": "execute_result"
    }
   ],
   "source": [
    "df['LoanAmount'].unique()"
   ]
  },
  {
   "cell_type": "code",
   "execution_count": 22,
   "id": "5b056c90",
   "metadata": {},
   "outputs": [
    {
     "data": {
      "text/plain": [
       "array([360., 120., 240.,  nan, 180.,  60., 300., 480.,  36.,  84.,  12.])"
      ]
     },
     "execution_count": 22,
     "metadata": {},
     "output_type": "execute_result"
    }
   ],
   "source": [
    "df['Loan_Amount_Term'].unique()"
   ]
  },
  {
   "cell_type": "code",
   "execution_count": 23,
   "id": "0092257c",
   "metadata": {},
   "outputs": [
    {
     "data": {
      "text/plain": [
       "Loan_Amount_Term\n",
       "360.0    512\n",
       "180.0     44\n",
       "480.0     15\n",
       "300.0     13\n",
       "240.0      4\n",
       "84.0       4\n",
       "120.0      3\n",
       "60.0       2\n",
       "36.0       2\n",
       "12.0       1\n",
       "Name: count, dtype: int64"
      ]
     },
     "execution_count": 23,
     "metadata": {},
     "output_type": "execute_result"
    }
   ],
   "source": [
    "df['Loan_Amount_Term'].value_counts()"
   ]
  },
  {
   "cell_type": "code",
   "execution_count": 24,
   "id": "54d7362c",
   "metadata": {},
   "outputs": [
    {
     "data": {
      "text/plain": [
       "array([ 1.,  0., nan])"
      ]
     },
     "execution_count": 24,
     "metadata": {},
     "output_type": "execute_result"
    }
   ],
   "source": [
    "df['Credit_History'].unique()"
   ]
  },
  {
   "cell_type": "code",
   "execution_count": 25,
   "id": "ba40a623",
   "metadata": {},
   "outputs": [],
   "source": [
    "df['Credit_History']=df['Credit_History'].replace({1:\"good\",0:\"bad\"})"
   ]
  },
  {
   "cell_type": "code",
   "execution_count": 26,
   "id": "6fd2f014",
   "metadata": {},
   "outputs": [
    {
     "data": {
      "text/plain": [
       "array(['good', 'bad', nan], dtype=object)"
      ]
     },
     "execution_count": 26,
     "metadata": {},
     "output_type": "execute_result"
    }
   ],
   "source": [
    "df['Credit_History'].unique()"
   ]
  },
  {
   "cell_type": "code",
   "execution_count": 27,
   "id": "61fed4e6",
   "metadata": {},
   "outputs": [
    {
     "data": {
      "text/plain": [
       "Credit_History\n",
       "good    475\n",
       "bad      89\n",
       "Name: count, dtype: int64"
      ]
     },
     "execution_count": 27,
     "metadata": {},
     "output_type": "execute_result"
    }
   ],
   "source": [
    "df['Credit_History'].value_counts()"
   ]
  },
  {
   "cell_type": "code",
   "execution_count": 28,
   "id": "8b3451ef",
   "metadata": {},
   "outputs": [
    {
     "data": {
      "text/plain": [
       "array(['Urban', 'Rural', 'Semiurban'], dtype=object)"
      ]
     },
     "execution_count": 28,
     "metadata": {},
     "output_type": "execute_result"
    }
   ],
   "source": [
    "df['Property_Area'].unique()"
   ]
  },
  {
   "cell_type": "code",
   "execution_count": 29,
   "id": "361be683",
   "metadata": {},
   "outputs": [
    {
     "data": {
      "text/plain": [
       "Property_Area\n",
       "Semiurban    233\n",
       "Urban        202\n",
       "Rural        179\n",
       "Name: count, dtype: int64"
      ]
     },
     "execution_count": 29,
     "metadata": {},
     "output_type": "execute_result"
    }
   ],
   "source": [
    "df['Property_Area'].value_counts()"
   ]
  },
  {
   "cell_type": "code",
   "execution_count": 30,
   "id": "2aaa5904",
   "metadata": {},
   "outputs": [
    {
     "data": {
      "text/plain": [
       "array(['Y', 'N'], dtype=object)"
      ]
     },
     "execution_count": 30,
     "metadata": {},
     "output_type": "execute_result"
    }
   ],
   "source": [
    "df['Loan_Status'].unique()"
   ]
  },
  {
   "cell_type": "code",
   "execution_count": 31,
   "id": "e9fa3489",
   "metadata": {},
   "outputs": [
    {
     "data": {
      "text/plain": [
       "Loan_Status\n",
       "Y    422\n",
       "N    192\n",
       "Name: count, dtype: int64"
      ]
     },
     "execution_count": 31,
     "metadata": {},
     "output_type": "execute_result"
    }
   ],
   "source": [
    "df['Loan_Status'].value_counts()"
   ]
  },
  {
   "cell_type": "code",
   "execution_count": 32,
   "id": "b0fb67ae",
   "metadata": {},
   "outputs": [],
   "source": [
    "continous =['ApplicantIncome','CoapplicantIncome','LoanAmount']\n",
    "\n",
    "discrete_categorical =['Gender','Married','Education','Self_Employed','Credit_History','Property_Area','Loan_Status']\n",
    "\n",
    "discrete_count = ['Dependents','Loan_Amount_Term']"
   ]
  },
  {
   "cell_type": "markdown",
   "id": "e8c958d2",
   "metadata": {},
   "source": [
    "### Exploratory Data Analysis(EDA)\n",
    "\n",
    "for continous Variable"
   ]
  },
  {
   "cell_type": "code",
   "execution_count": 33,
   "id": "e7d798bf",
   "metadata": {},
   "outputs": [
    {
     "data": {
      "text/html": [
       "<div>\n",
       "<style scoped>\n",
       "    .dataframe tbody tr th:only-of-type {\n",
       "        vertical-align: middle;\n",
       "    }\n",
       "\n",
       "    .dataframe tbody tr th {\n",
       "        vertical-align: top;\n",
       "    }\n",
       "\n",
       "    .dataframe thead th {\n",
       "        text-align: right;\n",
       "    }\n",
       "</style>\n",
       "<table border=\"1\" class=\"dataframe\">\n",
       "  <thead>\n",
       "    <tr style=\"text-align: right;\">\n",
       "      <th></th>\n",
       "      <th>ApplicantIncome</th>\n",
       "      <th>CoapplicantIncome</th>\n",
       "      <th>LoanAmount</th>\n",
       "    </tr>\n",
       "  </thead>\n",
       "  <tbody>\n",
       "    <tr>\n",
       "      <th>count</th>\n",
       "      <td>614.000000</td>\n",
       "      <td>614.000000</td>\n",
       "      <td>592.000000</td>\n",
       "    </tr>\n",
       "    <tr>\n",
       "      <th>mean</th>\n",
       "      <td>5403.459283</td>\n",
       "      <td>1621.245798</td>\n",
       "      <td>146.412162</td>\n",
       "    </tr>\n",
       "    <tr>\n",
       "      <th>std</th>\n",
       "      <td>6109.041673</td>\n",
       "      <td>2926.248369</td>\n",
       "      <td>85.587325</td>\n",
       "    </tr>\n",
       "    <tr>\n",
       "      <th>min</th>\n",
       "      <td>150.000000</td>\n",
       "      <td>0.000000</td>\n",
       "      <td>9.000000</td>\n",
       "    </tr>\n",
       "    <tr>\n",
       "      <th>25%</th>\n",
       "      <td>2877.500000</td>\n",
       "      <td>0.000000</td>\n",
       "      <td>100.000000</td>\n",
       "    </tr>\n",
       "    <tr>\n",
       "      <th>50%</th>\n",
       "      <td>3812.500000</td>\n",
       "      <td>1188.500000</td>\n",
       "      <td>128.000000</td>\n",
       "    </tr>\n",
       "    <tr>\n",
       "      <th>75%</th>\n",
       "      <td>5795.000000</td>\n",
       "      <td>2297.250000</td>\n",
       "      <td>168.000000</td>\n",
       "    </tr>\n",
       "    <tr>\n",
       "      <th>max</th>\n",
       "      <td>81000.000000</td>\n",
       "      <td>41667.000000</td>\n",
       "      <td>700.000000</td>\n",
       "    </tr>\n",
       "  </tbody>\n",
       "</table>\n",
       "</div>"
      ],
      "text/plain": [
       "       ApplicantIncome  CoapplicantIncome  LoanAmount\n",
       "count       614.000000         614.000000  592.000000\n",
       "mean       5403.459283        1621.245798  146.412162\n",
       "std        6109.041673        2926.248369   85.587325\n",
       "min         150.000000           0.000000    9.000000\n",
       "25%        2877.500000           0.000000  100.000000\n",
       "50%        3812.500000        1188.500000  128.000000\n",
       "75%        5795.000000        2297.250000  168.000000\n",
       "max       81000.000000       41667.000000  700.000000"
      ]
     },
     "execution_count": 33,
     "metadata": {},
     "output_type": "execute_result"
    }
   ],
   "source": [
    "df[continous].describe()"
   ]
  },
  {
   "cell_type": "code",
   "execution_count": 34,
   "id": "c09b9688",
   "metadata": {},
   "outputs": [
    {
     "data": {
      "image/png": "[encoded data removed]",
      "text/plain": [
       "<Figure size 1800x800 with 3 Axes>"
      ]
     },
     "metadata": {},
     "output_type": "display_data"
    }
   ],
   "source": [
    "plt.rcParams['figure.figsize']=(18,8)\n",
    "\n",
    "plt.subplot(1,3,1)\n",
    "sns.histplot(df['ApplicantIncome'],kde=True)\n",
    "\n",
    "plt.subplot(1,3,2)\n",
    "sns.histplot(df['CoapplicantIncome'],kde=True)\n",
    "\n",
    "plt.subplot(1,3,3)\n",
    "sns.histplot(df['LoanAmount'],kde=True)\n",
    "\n",
    "plt.suptitle('Univariate Analysis on Numerical columns')\n",
    "plt.show()"
   ]
  },
  {
   "cell_type": "code",
   "execution_count": 35,
   "id": "4be1fb66",
   "metadata": {},
   "outputs": [
    {
     "data": {
      "text/plain": [
       "ApplicantIncome      6.539513\n",
       "CoapplicantIncome    7.491531\n",
       "LoanAmount           2.677552\n",
       "dtype: float64"
      ]
     },
     "execution_count": 35,
     "metadata": {},
     "output_type": "execute_result"
    }
   ],
   "source": [
    "df[continous].skew()"
   ]
  },
  {
   "cell_type": "code",
   "execution_count": 36,
   "id": "ee7fe3e8",
   "metadata": {},
   "outputs": [
    {
     "data": {
      "image/png": "[encoded data removed]",
      "text/plain": [
       "<Figure size 750x750 with 12 Axes>"
      ]
     },
     "metadata": {},
     "output_type": "display_data"
    }
   ],
   "source": [
    "sns.pairplot(df[continous])\n",
    "plt.show()"
   ]
  },
  {
   "cell_type": "code",
   "execution_count": 37,
   "id": "ec0a9425",
   "metadata": {},
   "outputs": [
    {
     "data": {
      "image/png": "[encoded data removed]",
      "text/plain": [
       "<Figure size 1800x800 with 2 Axes>"
      ]
     },
     "metadata": {},
     "output_type": "display_data"
    }
   ],
   "source": [
    "sns.heatmap(df[continous].corr(),annot=True)\n",
    "plt.show()"
   ]
  },
  {
   "cell_type": "code",
   "execution_count": 38,
   "id": "7f8ddb88",
   "metadata": {},
   "outputs": [
    {
     "data": {
      "image/png": "[encoded data removed]",
      "text/plain": [
       "<Figure size 1800x800 with 3 Axes>"
      ]
     },
     "metadata": {},
     "output_type": "display_data"
    }
   ],
   "source": [
    "#lets visualize the outliers using box plot\n",
    "\n",
    "plt.subplot(1,3,1)\n",
    "sns.boxplot(df['ApplicantIncome'])\n",
    "\n",
    "plt.subplot(1,3,2)\n",
    "sns.boxplot(df['CoapplicantIncome'])\n",
    "\n",
    "plt.subplot(1,3,3)\n",
    "sns.boxplot(df['LoanAmount'])\n",
    "\n",
    "plt.suptitle('Outliers in the Data')\n",
    "plt.show()"
   ]
  },
  {
   "cell_type": "markdown",
   "id": "ef634d50",
   "metadata": {},
   "source": [
    "### For Discreate Variable"
   ]
  },
  {
   "cell_type": "code",
   "execution_count": 39,
   "id": "4b3a3d55",
   "metadata": {},
   "outputs": [
    {
     "data": {
      "text/html": [
       "<div>\n",
       "<style scoped>\n",
       "    .dataframe tbody tr th:only-of-type {\n",
       "        vertical-align: middle;\n",
       "    }\n",
       "\n",
       "    .dataframe tbody tr th {\n",
       "        vertical-align: top;\n",
       "    }\n",
       "\n",
       "    .dataframe thead th {\n",
       "        text-align: right;\n",
       "    }\n",
       "</style>\n",
       "<table border=\"1\" class=\"dataframe\">\n",
       "  <thead>\n",
       "    <tr style=\"text-align: right;\">\n",
       "      <th></th>\n",
       "      <th>Gender</th>\n",
       "      <th>Married</th>\n",
       "      <th>Education</th>\n",
       "      <th>Self_Employed</th>\n",
       "      <th>Credit_History</th>\n",
       "      <th>Property_Area</th>\n",
       "      <th>Loan_Status</th>\n",
       "    </tr>\n",
       "  </thead>\n",
       "  <tbody>\n",
       "    <tr>\n",
       "      <th>count</th>\n",
       "      <td>601</td>\n",
       "      <td>611</td>\n",
       "      <td>614</td>\n",
       "      <td>582</td>\n",
       "      <td>564</td>\n",
       "      <td>614</td>\n",
       "      <td>614</td>\n",
       "    </tr>\n",
       "    <tr>\n",
       "      <th>unique</th>\n",
       "      <td>2</td>\n",
       "      <td>2</td>\n",
       "      <td>2</td>\n",
       "      <td>2</td>\n",
       "      <td>2</td>\n",
       "      <td>3</td>\n",
       "      <td>2</td>\n",
       "    </tr>\n",
       "    <tr>\n",
       "      <th>top</th>\n",
       "      <td>Male</td>\n",
       "      <td>Yes</td>\n",
       "      <td>Graduate</td>\n",
       "      <td>No</td>\n",
       "      <td>good</td>\n",
       "      <td>Semiurban</td>\n",
       "      <td>Y</td>\n",
       "    </tr>\n",
       "    <tr>\n",
       "      <th>freq</th>\n",
       "      <td>489</td>\n",
       "      <td>398</td>\n",
       "      <td>480</td>\n",
       "      <td>500</td>\n",
       "      <td>475</td>\n",
       "      <td>233</td>\n",
       "      <td>422</td>\n",
       "    </tr>\n",
       "  </tbody>\n",
       "</table>\n",
       "</div>"
      ],
      "text/plain": [
       "       Gender Married Education Self_Employed Credit_History Property_Area  \\\n",
       "count     601     611       614           582            564           614   \n",
       "unique      2       2         2             2              2             3   \n",
       "top      Male     Yes  Graduate            No           good     Semiurban   \n",
       "freq      489     398       480           500            475           233   \n",
       "\n",
       "       Loan_Status  \n",
       "count          614  \n",
       "unique           2  \n",
       "top              Y  \n",
       "freq           422  "
      ]
     },
     "execution_count": 39,
     "metadata": {},
     "output_type": "execute_result"
    }
   ],
   "source": [
    "df[discrete_categorical].describe()"
   ]
  },
  {
   "cell_type": "code",
   "execution_count": 40,
   "id": "20a16123",
   "metadata": {},
   "outputs": [
    {
     "data": {
      "image/png": "[encoded data removed]",
      "text/plain": [
       "<Figure size 1800x800 with 6 Axes>"
      ]
     },
     "metadata": {},
     "output_type": "display_data"
    }
   ],
   "source": [
    "plt.rcParams['figure.figsize']=(18,8)\n",
    "\n",
    "\n",
    "plt.subplot(2,3,1)\n",
    "sns.countplot(x = df['Gender'])\n",
    "\n",
    "plt.subplot(2,3,2)\n",
    "sns.countplot(x = df['Married'])\n",
    "\n",
    "plt.subplot(2,3,3)\n",
    "sns.countplot(x = df['Self_Employed'])\n",
    "\n",
    "plt.subplot(2,3,4)\n",
    "sns.countplot(x = df['Property_Area'])\n",
    "\n",
    "plt.subplot(2,3,5)\n",
    "sns.countplot(x = df['Education'])\n",
    "\n",
    "plt.subplot(2,3,6)\n",
    "sns.countplot(x = df['Loan_Status'])\n",
    "\n",
    "plt.title('Univariate Analysis on Categorical Columns')\n",
    "plt.show()"
   ]
  },
  {
   "cell_type": "markdown",
   "id": "3985bb8e",
   "metadata": {},
   "source": [
    "### Data Preparation"
   ]
  },
  {
   "cell_type": "code",
   "execution_count": 41,
   "id": "1715be53",
   "metadata": {},
   "outputs": [],
   "source": [
    "df['Income'] = df['ApplicantIncome']+df['CoapplicantIncome']\n",
    "df.drop(columns=['ApplicantIncome','CoapplicantIncome'],inplace=True)"
   ]
  },
  {
   "cell_type": "markdown",
   "id": "de1ad884",
   "metadata": {},
   "source": [
    "### modifying the Wrong data"
   ]
  },
  {
   "cell_type": "code",
   "execution_count": 42,
   "id": "41f315c8",
   "metadata": {},
   "outputs": [],
   "source": [
    "df['Dependents']=df['Dependents'].replace({'3+':3})"
   ]
  },
  {
   "cell_type": "markdown",
   "id": "10c8bc8b",
   "metadata": {},
   "source": [
    "### Missing Value Treatments"
   ]
  },
  {
   "cell_type": "code",
   "execution_count": 43,
   "id": "45ca93a9",
   "metadata": {},
   "outputs": [
    {
     "data": {
      "text/plain": [
       "Gender              13\n",
       "Married              3\n",
       "Dependents          15\n",
       "Education            0\n",
       "Self_Employed       32\n",
       "LoanAmount          22\n",
       "Loan_Amount_Term    14\n",
       "Credit_History      50\n",
       "Property_Area        0\n",
       "Loan_Status          0\n",
       "Income               0\n",
       "dtype: int64"
      ]
     },
     "execution_count": 43,
     "metadata": {},
     "output_type": "execute_result"
    }
   ],
   "source": [
    "# chexking no .of missing values\n",
    "df.isnull().sum()"
   ]
  },
  {
   "cell_type": "code",
   "execution_count": 44,
   "id": "acfa7032",
   "metadata": {},
   "outputs": [
    {
     "data": {
      "text/plain": [
       "Gender              2.117264\n",
       "Married             0.488599\n",
       "Dependents          2.442997\n",
       "Education           0.000000\n",
       "Self_Employed       5.211726\n",
       "LoanAmount          3.583062\n",
       "Loan_Amount_Term    2.280130\n",
       "Credit_History      8.143322\n",
       "Property_Area       0.000000\n",
       "Loan_Status         0.000000\n",
       "Income              0.000000\n",
       "dtype: float64"
      ]
     },
     "execution_count": 44,
     "metadata": {},
     "output_type": "execute_result"
    }
   ],
   "source": [
    "#checkig percentage of missing values\n",
    "df.isnull().sum()/len(df)*100"
   ]
  },
  {
   "cell_type": "code",
   "execution_count": 45,
   "id": "26206a0e",
   "metadata": {},
   "outputs": [],
   "source": [
    "df = df.dropna(subset=['Income','LoanAmount','Loan_Amount_Term','Credit_History'])"
   ]
  },
  {
   "cell_type": "code",
   "execution_count": 46,
   "id": "1af805be",
   "metadata": {},
   "outputs": [],
   "source": [
    "#count variable replace with 0\n",
    "df['Dependents']=df['Dependents'].fillna(0)"
   ]
  },
  {
   "cell_type": "code",
   "execution_count": 47,
   "id": "cd767b00",
   "metadata": {},
   "outputs": [],
   "source": [
    "#categorical variable replace with mode\n",
    "df['Gender'] = df['Gender'].fillna(df['Gender'].mode()[0])\n",
    "df['Married'] = df['Married'].fillna(df['Married'].mode()[0])\n",
    "df['Self_Employed']=df['Self_Employed'].fillna(df['Self_Employed'].mode()[0])"
   ]
  },
  {
   "cell_type": "code",
   "execution_count": 48,
   "id": "6fb0adbc",
   "metadata": {},
   "outputs": [
    {
     "data": {
      "text/plain": [
       "Gender              0\n",
       "Married             0\n",
       "Dependents          0\n",
       "Education           0\n",
       "Self_Employed       0\n",
       "LoanAmount          0\n",
       "Loan_Amount_Term    0\n",
       "Credit_History      0\n",
       "Property_Area       0\n",
       "Loan_Status         0\n",
       "Income              0\n",
       "dtype: int64"
      ]
     },
     "execution_count": 48,
     "metadata": {},
     "output_type": "execute_result"
    }
   ],
   "source": [
    "df.isnull().sum()"
   ]
  },
  {
   "cell_type": "markdown",
   "id": "de23460a",
   "metadata": {},
   "source": [
    "### outliers treatment\n",
    "\n",
    "Encoding"
   ]
  },
  {
   "cell_type": "code",
   "execution_count": 49,
   "id": "400cfe36",
   "metadata": {},
   "outputs": [],
   "source": [
    "df['Gender']=df['Gender'].replace({'Male':1,'Female':0}).astype('int')\n",
    "df['Married']=df['Married'].replace({'Yes':1,'No':0}).astype('int')\n",
    "df['Education']=df['Education'].replace({'Graduate':1,'Not Graduate':0}).astype('int')\n",
    "df['Self_Employed']=df['Self_Employed'].replace({'Yes':1,'No':0}).astype('int')\n",
    "df['Property_Area']=df['Property_Area'].replace({'Rural':0,'Semiurban':1,'Urban':2}).astype('int')\n",
    "df['Credit_History']=df['Credit_History'].replace({'good':1,'bad':0}).astype('int')\n",
    "df['Loan_Status']=df['Loan_Status'].replace({'Y':1,'N':0}).astype('int')"
   ]
  },
  {
   "cell_type": "markdown",
   "id": "b75e73d5",
   "metadata": {},
   "source": [
    "### data type conversion"
   ]
  },
  {
   "cell_type": "code",
   "execution_count": 50,
   "id": "a262510f",
   "metadata": {},
   "outputs": [],
   "source": [
    "df['Dependents'] = df['Dependents'].astype('int')\n",
    "df['Loan_Amount_Term'] = df['Loan_Amount_Term'].astype('int')"
   ]
  },
  {
   "cell_type": "markdown",
   "id": "0b17e26a",
   "metadata": {},
   "source": [
    "### Transformations"
   ]
  },
  {
   "cell_type": "code",
   "execution_count": 51,
   "id": "47799c90",
   "metadata": {},
   "outputs": [
    {
     "data": {
      "text/plain": [
       "Income        5.777628\n",
       "LoanAmount    2.607945\n",
       "dtype: float64"
      ]
     },
     "execution_count": 51,
     "metadata": {},
     "output_type": "execute_result"
    }
   ],
   "source": [
    "df[['Income','LoanAmount']].skew()"
   ]
  },
  {
   "cell_type": "code",
   "execution_count": 52,
   "id": "af5570a4",
   "metadata": {},
   "outputs": [],
   "source": [
    "#lets apply boxcox transformation to remove skewness\n",
    "\n",
    "from scipy.stats import boxcox\n",
    "df['Income'],a =boxcox(df['Income'])\n",
    "df['LoanAmount'],c= boxcox(df['LoanAmount'])"
   ]
  },
  {
   "cell_type": "code",
   "execution_count": 53,
   "id": "433bfa29",
   "metadata": {},
   "outputs": [
    {
     "data": {
      "text/plain": [
       "Income       -0.027769\n",
       "LoanAmount    0.038289\n",
       "dtype: float64"
      ]
     },
     "execution_count": 53,
     "metadata": {},
     "output_type": "execute_result"
    }
   ],
   "source": [
    "df[['Income','LoanAmount']].skew()"
   ]
  },
  {
   "cell_type": "code",
   "execution_count": 54,
   "id": "96419794",
   "metadata": {},
   "outputs": [],
   "source": [
    "df['Loan_Amount_Term'] = df['Loan_Amount_Term']/12"
   ]
  },
  {
   "cell_type": "markdown",
   "id": "0b9d42b8",
   "metadata": {},
   "source": [
    "# X & y"
   ]
  },
  {
   "cell_type": "code",
   "execution_count": 55,
   "id": "f17b2a94",
   "metadata": {},
   "outputs": [],
   "source": [
    "X = df.drop('Loan_Status',axis=1)\n",
    "y =df['Loan_Status']"
   ]
  },
  {
   "cell_type": "markdown",
   "id": "b8ff0942",
   "metadata": {},
   "source": [
    "### Identify the best random state number"
   ]
  },
  {
   "cell_type": "code",
   "execution_count": 56,
   "id": "7107abd6",
   "metadata": {},
   "outputs": [
    {
     "name": "stdout",
     "output_type": "stream",
     "text": [
      " best random_state number: 70\n"
     ]
    }
   ],
   "source": [
    "Train =[]\n",
    "# Test = []\n",
    "Test = []\n",
    "CV = []\n",
    "\n",
    "\n",
    "for i in range (0,101):\n",
    "     \n",
    "    from sklearn.model_selection import train_test_split\n",
    "    x_train, x_test, y_train , y_test = train_test_split(X,y, test_size=0.2, random_state=i)\n",
    "    \n",
    "    from sklearn.linear_model import LogisticRegression\n",
    "    \n",
    "    log_default = LogisticRegression(max_iter=1000)\n",
    "    log_default.fit(x_train,y_train)\n",
    "    \n",
    "    ypred_train = log_default.predict(x_train)\n",
    "    ypred_test = log_default.predict(x_test)\n",
    "    \n",
    "    \n",
    "    from sklearn.metrics import accuracy_score\n",
    "    Train.append(accuracy_score(y_train , ypred_train))\n",
    "    Test.append(accuracy_score(y_test, ypred_test))\n",
    "    \n",
    "    from sklearn.model_selection import cross_val_score\n",
    "    CV.append(cross_val_score(log_default, x_train , y_train ,cv =5 , scoring = \"accuracy\").mean())\n",
    "    \n",
    "    \n",
    "em = pd.DataFrame({\"Train\":Train , \"Test\":Test ,  \"CV\":CV})\n",
    "gm = em[(abs(em['Train']-em['Test'])<=0.05) & (abs(em['Test']-em['CV'])<=0.05)]\n",
    "rs = gm[gm[\"CV\"]==gm[\"CV\"].max()].index.to_list()[0]\n",
    "print(\" best random_state number:\",rs)\n",
    "    \n",
    "            "
   ]
  },
  {
   "cell_type": "markdown",
   "id": "b68d36e3",
   "metadata": {},
   "source": [
    "# Train -Test-Split"
   ]
  },
  {
   "cell_type": "code",
   "execution_count": 57,
   "id": "e16a2e49",
   "metadata": {},
   "outputs": [],
   "source": [
    "from sklearn.model_selection import train_test_split\n",
    "X_train,X_test,y_train,y_test = train_test_split(X,y,test_size=0.2,random_state=42)\n"
   ]
  },
  {
   "cell_type": "markdown",
   "id": "430cdd0b",
   "metadata": {},
   "source": [
    "### Machine Learning Modelling & Evaluations"
   ]
  },
  {
   "cell_type": "markdown",
   "id": "6db9da2e",
   "metadata": {},
   "source": [
    "# 1.Logistic Regression"
   ]
  },
  {
   "cell_type": "code",
   "execution_count": 58,
   "id": "b88d40be",
   "metadata": {},
   "outputs": [
    {
     "name": "stdout",
     "output_type": "stream",
     "text": [
      "Train Accuracy: 0.8108747044917257\n",
      "Cross validatin score: [0.81176471 0.77647059 0.82352941 0.79761905 0.8452381 ]\n",
      "Test Accuracy: 0.8301886792452831\n"
     ]
    }
   ],
   "source": [
    "from sklearn.linear_model import LogisticRegression\n",
    "log_model = LogisticRegression()\n",
    "log_model.fit(X_train,y_train)\n",
    "\n",
    "ypred_train =log_model.predict(X_train)\n",
    "ypred_test = log_model.predict(X_test)\n",
    "\n",
    "print(\"Train Accuracy:\",accuracy_score(y_train,ypred_train))\n",
    "print(\"Cross validatin score:\",cross_val_score(log_model,X_train,y_train,cv=5,scoring='accuracy'))\n",
    "print(\"Test Accuracy:\",accuracy_score(y_test,ypred_test))"
   ]
  },
  {
   "cell_type": "markdown",
   "id": "b92ae79b",
   "metadata": {},
   "source": [
    "# 2.KNN"
   ]
  },
  {
   "cell_type": "code",
   "execution_count": 59,
   "id": "8ed062f8",
   "metadata": {},
   "outputs": [
    {
     "name": "stdout",
     "output_type": "stream",
     "text": [
      "Train Accuracy: 0.7872340425531915\n",
      "Cross Validation Score: [0.75294118 0.71764706 0.74117647 0.73809524 0.80952381]\n",
      "Test Accuracy: 0.7547169811320755\n"
     ]
    }
   ],
   "source": [
    "from sklearn.neighbors import KNeighborsClassifier\n",
    "\n",
    "estimator = KNeighborsClassifier()\n",
    "\n",
    "param_grid ={'n_neighbors':list(range(1,50))}\n",
    "\n",
    "from sklearn.model_selection import GridSearchCV\n",
    "knn_grid = GridSearchCV(estimator,param_grid,scoring='accuracy',cv=5)\n",
    "knn_grid.fit(X_train,y_train)\n",
    "\n",
    "knn_model = knn_grid.best_estimator_\n",
    "\n",
    "ypred_train = knn_model.predict(X_train)\n",
    "ypred_test = knn_model.predict(X_test)\n",
    "\n",
    "print(\"Train Accuracy:\",accuracy_score(y_train,ypred_train))\n",
    "print(\"Cross Validation Score:\",cross_val_score(knn_model,X_train,y_train,cv=5,scoring='accuracy'))\n",
    "print(\"Test Accuracy:\",accuracy_score(y_test,ypred_test))\n"
   ]
  },
  {
   "cell_type": "markdown",
   "id": "018248cb",
   "metadata": {},
   "source": [
    "### 3.Support Vector Machine(SVM)"
   ]
  },
  {
   "cell_type": "code",
   "execution_count": 60,
   "id": "5ff25501",
   "metadata": {},
   "outputs": [
    {
     "name": "stdout",
     "output_type": "stream",
     "text": [
      "Train Accuracy: 0.6926713947990544\n",
      "Cross Valdation Score: [0.69411765 0.69411765 0.69411765 0.69047619 0.69047619]\n",
      "Test Accuracy: 0.6886792452830188\n"
     ]
    }
   ],
   "source": [
    "from sklearn.svm import SVC\n",
    "\n",
    "estimator = SVC()\n",
    "\n",
    "param_grid ={'C':[0.01,0.1,1],'kernel':['liner','rbf','sigmoid','poly']}\n",
    "\n",
    "from sklearn.model_selection import GridSearchCV\n",
    "\n",
    "svm_grid = GridSearchCV(estimator,param_grid,scoring='accuracy',cv=5)\n",
    "svm_grid.fit(X_train,y_train)\n",
    "\n",
    "svm_model = svm_grid.best_estimator_\n",
    "\n",
    "ypred_train = svm_model.predict(X_train)\n",
    "ypred_test = svm_model.predict(X_test)\n",
    "\n",
    "\n",
    "print(\"Train Accuracy:\",accuracy_score(y_train,ypred_train))\n",
    "print(\"Cross Valdation Score:\",cross_val_score(svm_model,X_train,y_train,cv=5,scoring='accuracy'))\n",
    "print(\"Test Accuracy:\",accuracy_score(y_test,ypred_test))"
   ]
  },
  {
   "cell_type": "markdown",
   "id": "c80d2262",
   "metadata": {},
   "source": [
    "### 4.Decision Tree Classifier"
   ]
  },
  {
   "cell_type": "code",
   "execution_count": 61,
   "id": "d921d03c",
   "metadata": {},
   "outputs": [
    {
     "name": "stdout",
     "output_type": "stream",
     "text": [
      "Train Accurcy : 0.6926713947990544\n",
      "Cross validation score: 0.6856022408963586\n",
      "Test Accuracy: 0.6886792452830188\n"
     ]
    }
   ],
   "source": [
    "from sklearn.tree import DecisionTreeClassifier\n",
    "estimator =DecisionTreeClassifier(random_state=rs)\n",
    "param_grid ={\"criterion\":[\"gini\",\"entropy\"],\n",
    "            \"max_depth\":list(range(1,16))}\n",
    "\n",
    "\n",
    "from sklearn.model_selection import GridSearchCV\n",
    "dt_grid =GridSearchCV(estimator,param_grid, scoring ='accuracy',cv=5)\n",
    "dt_grid.fit(x_train,y_train)\n",
    "\n",
    "#identify the best moodel\n",
    "dt = dt_grid.best_estimator_\n",
    "\n",
    "#identify the importance of each feature\n",
    "dt_fi = dt.feature_importances_\n",
    "\n",
    "#identify the features where the  features importance is greater than 0\n",
    "\n",
    "index = [i for i,x in enumerate(dt_fi) if x>0]\n",
    "\n",
    "#create new dataset with important features\n",
    "x_train_dt =x_train.iloc[:,index]\n",
    "x_test_dt = x_test.iloc[:,index]\n",
    "\n",
    "#train with best model & with important features \n",
    "dt.fit(x_train_dt,y_train)\n",
    "\n",
    "ypred_train =dt.predict(x_train_dt)\n",
    "ypred_test =dt.predict(x_test_dt)\n",
    "\n",
    "#Evalvate the best model\n",
    "\n",
    "print(\"Train Accurcy :\",accuracy_score(y_train,ypred_train))\n",
    "print(\"Cross validation score:\",cross_val_score(dt,x_train,y_train,cv=5,scoring='accuracy').mean())\n",
    "print(\"Test Accuracy:\",accuracy_score(y_test,ypred_test))"
   ]
  },
  {
   "cell_type": "code",
   "execution_count": 62,
   "id": "86ba8b25",
   "metadata": {},
   "outputs": [
    {
     "data": {
      "text/html": [
       "<style>#sk-container-id-1 {color: black;}#sk-container-id-1 pre{padding: 0;}#sk-container-id-1 div.sk-toggleable {background-color: white;}#sk-container-id-1 label.sk-toggleable__label {cursor: pointer;display: block;width: 100%;margin-bottom: 0;padding: 0.3em;box-sizing: border-box;text-align: center;}#sk-container-id-1 label.sk-toggleable__label-arrow:before {content: \"▸\";float: left;margin-right: 0.25em;color: #696969;}#sk-container-id-1 label.sk-toggleable__label-arrow:hover:before {color: black;}#sk-container-id-1 div.sk-estimator:hover label.sk-toggleable__label-arrow:before {color: black;}#sk-container-id-1 div.sk-toggleable__content {max-height: 0;max-width: 0;overflow: hidden;text-align: left;background-color: #f0f8ff;}#sk-container-id-1 div.sk-toggleable__content pre {margin: 0.2em;color: black;border-radius: 0.25em;background-color: #f0f8ff;}#sk-container-id-1 input.sk-toggleable__control:checked~div.sk-toggleable__content {max-height: 200px;max-width: 100%;overflow: auto;}#sk-container-id-1 input.sk-toggleable__control:checked~label.sk-toggleable__label-arrow:before {content: \"▾\";}#sk-container-id-1 div.sk-estimator input.sk-toggleable__control:checked~label.sk-toggleable__label {background-color: #d4ebff;}#sk-container-id-1 div.sk-label input.sk-toggleable__control:checked~label.sk-toggleable__label {background-color: #d4ebff;}#sk-container-id-1 input.sk-hidden--visually {border: 0;clip: rect(1px 1px 1px 1px);clip: rect(1px, 1px, 1px, 1px);height: 1px;margin: -1px;overflow: hidden;padding: 0;position: absolute;width: 1px;}#sk-container-id-1 div.sk-estimator {font-family: monospace;background-color: #f0f8ff;border: 1px dotted black;border-radius: 0.25em;box-sizing: border-box;margin-bottom: 0.5em;}#sk-container-id-1 div.sk-estimator:hover {background-color: #d4ebff;}#sk-container-id-1 div.sk-parallel-item::after {content: \"\";width: 100%;border-bottom: 1px solid gray;flex-grow: 1;}#sk-container-id-1 div.sk-label:hover label.sk-toggleable__label {background-color: #d4ebff;}#sk-container-id-1 div.sk-serial::before {content: \"\";position: absolute;border-left: 1px solid gray;box-sizing: border-box;top: 0;bottom: 0;left: 50%;z-index: 0;}#sk-container-id-1 div.sk-serial {display: flex;flex-direction: column;align-items: center;background-color: white;padding-right: 0.2em;padding-left: 0.2em;position: relative;}#sk-container-id-1 div.sk-item {position: relative;z-index: 1;}#sk-container-id-1 div.sk-parallel {display: flex;align-items: stretch;justify-content: center;background-color: white;position: relative;}#sk-container-id-1 div.sk-item::before, #sk-container-id-1 div.sk-parallel-item::before {content: \"\";position: absolute;border-left: 1px solid gray;box-sizing: border-box;top: 0;bottom: 0;left: 50%;z-index: -1;}#sk-container-id-1 div.sk-parallel-item {display: flex;flex-direction: column;z-index: 1;position: relative;background-color: white;}#sk-container-id-1 div.sk-parallel-item:first-child::after {align-self: flex-end;width: 50%;}#sk-container-id-1 div.sk-parallel-item:last-child::after {align-self: flex-start;width: 50%;}#sk-container-id-1 div.sk-parallel-item:only-child::after {width: 0;}#sk-container-id-1 div.sk-dashed-wrapped {border: 1px dashed gray;margin: 0 0.4em 0.5em 0.4em;box-sizing: border-box;padding-bottom: 0.4em;background-color: white;}#sk-container-id-1 div.sk-label label {font-family: monospace;font-weight: bold;display: inline-block;line-height: 1.2em;}#sk-container-id-1 div.sk-label-container {text-align: center;}#sk-container-id-1 div.sk-container {/* jupyter's `normalize.less` sets `[hidden] { display: none; }` but bootstrap.min.css set `[hidden] { display: none !important; }` so we also need the `!important` here to be able to override the default hidden behavior on the sphinx rendered scikit-learn.org. See: https://github.com/scikit-learn/scikit-learn/issues/21755 */display: inline-block !important;position: relative;}#sk-container-id-1 div.sk-text-repr-fallback {display: none;}</style><div id=\"sk-container-id-1\" class=\"sk-top-container\"><div class=\"sk-text-repr-fallback\"><pre>DecisionTreeClassifier(criterion=&#x27;entropy&#x27;, max_depth=1, random_state=70)</pre><b>In a Jupyter environment, please rerun this cell to show the HTML representation or trust the notebook. <br />On GitHub, the HTML representation is unable to render, please try loading this page with nbviewer.org.</b></div><div class=\"sk-container\" hidden><div class=\"sk-item\"><div class=\"sk-estimator sk-toggleable\"><input class=\"sk-toggleable__control sk-hidden--visually\" id=\"sk-estimator-id-1\" type=\"checkbox\" checked><label for=\"sk-estimator-id-1\" class=\"sk-toggleable__label sk-toggleable__label-arrow\">DecisionTreeClassifier</label><div class=\"sk-toggleable__content\"><pre>DecisionTreeClassifier(criterion=&#x27;entropy&#x27;, max_depth=1, random_state=70)</pre></div></div></div></div></div>"
      ],
      "text/plain": [
       "DecisionTreeClassifier(criterion='entropy', max_depth=1, random_state=70)"
      ]
     },
     "execution_count": 62,
     "metadata": {},
     "output_type": "execute_result"
    }
   ],
   "source": [
    "dt_grid.best_estimator_\n"
   ]
  },
  {
   "cell_type": "code",
   "execution_count": 63,
   "id": "5c14d714",
   "metadata": {},
   "outputs": [
    {
     "data": {
      "text/html": [
       "<div>\n",
       "<style scoped>\n",
       "    .dataframe tbody tr th:only-of-type {\n",
       "        vertical-align: middle;\n",
       "    }\n",
       "\n",
       "    .dataframe tbody tr th {\n",
       "        vertical-align: top;\n",
       "    }\n",
       "\n",
       "    .dataframe thead th {\n",
       "        text-align: right;\n",
       "    }\n",
       "</style>\n",
       "<table border=\"1\" class=\"dataframe\">\n",
       "  <thead>\n",
       "    <tr style=\"text-align: right;\">\n",
       "      <th></th>\n",
       "      <th>LoanAmount</th>\n",
       "    </tr>\n",
       "  </thead>\n",
       "  <tbody>\n",
       "    <tr>\n",
       "      <th>455</th>\n",
       "      <td>5.782820</td>\n",
       "    </tr>\n",
       "    <tr>\n",
       "      <th>552</th>\n",
       "      <td>6.588770</td>\n",
       "    </tr>\n",
       "    <tr>\n",
       "      <th>492</th>\n",
       "      <td>5.999056</td>\n",
       "    </tr>\n",
       "    <tr>\n",
       "      <th>360</th>\n",
       "      <td>5.517040</td>\n",
       "    </tr>\n",
       "    <tr>\n",
       "      <th>354</th>\n",
       "      <td>6.268459</td>\n",
       "    </tr>\n",
       "    <tr>\n",
       "      <th>...</th>\n",
       "      <td>...</td>\n",
       "    </tr>\n",
       "    <tr>\n",
       "      <th>160</th>\n",
       "      <td>5.815384</td>\n",
       "    </tr>\n",
       "    <tr>\n",
       "      <th>381</th>\n",
       "      <td>7.663035</td>\n",
       "    </tr>\n",
       "    <tr>\n",
       "      <th>383</th>\n",
       "      <td>6.243267</td>\n",
       "    </tr>\n",
       "    <tr>\n",
       "      <th>520</th>\n",
       "      <td>4.631571</td>\n",
       "    </tr>\n",
       "    <tr>\n",
       "      <th>555</th>\n",
       "      <td>3.850797</td>\n",
       "    </tr>\n",
       "  </tbody>\n",
       "</table>\n",
       "<p>106 rows × 1 columns</p>\n",
       "</div>"
      ],
      "text/plain": [
       "     LoanAmount\n",
       "455    5.782820\n",
       "552    6.588770\n",
       "492    5.999056\n",
       "360    5.517040\n",
       "354    6.268459\n",
       "..          ...\n",
       "160    5.815384\n",
       "381    7.663035\n",
       "383    6.243267\n",
       "520    4.631571\n",
       "555    3.850797\n",
       "\n",
       "[106 rows x 1 columns]"
      ]
     },
     "execution_count": 63,
     "metadata": {},
     "output_type": "execute_result"
    }
   ],
   "source": [
    "x_test_dt"
   ]
  },
  {
   "cell_type": "markdown",
   "id": "71df5b68",
   "metadata": {},
   "source": [
    "### 5.Random Forest Classifier"
   ]
  },
  {
   "cell_type": "code",
   "execution_count": 64,
   "id": "ed031d94",
   "metadata": {},
   "outputs": [
    {
     "name": "stdout",
     "output_type": "stream",
     "text": [
      "Train Accuracy: 0.9976359338061466\n",
      "Cross Validation Score: [0.8        0.70588235 0.83529412 0.79761905 0.83333333]\n",
      "Test Accuracy: 0.7641509433962265\n"
     ]
    }
   ],
   "source": [
    "from sklearn.ensemble import RandomForestClassifier\n",
    "\n",
    "estimator = RandomForestClassifier(random_state=rs)\n",
    "param_grid ={'n_estimators':list(range(1,51))}\n",
    "\n",
    "\n",
    "from sklearn.model_selection import GridSearchCV\n",
    "\n",
    "rf_grid = GridSearchCV(estimator,param_grid,scoring='accuracy',cv=5)\n",
    "rf_grid.fit(X_train,y_train)\n",
    "\n",
    "rf = rf_grid.best_estimator_\n",
    "rf_fi =rf.feature_importances_\n",
    "\n",
    "index = [i for i,x in enumerate(rf_fi) if x>0]\n",
    "\n",
    "X_train_rf = X_train.iloc[:,index]\n",
    "X_test_rf = X_test.iloc[:,index]\n",
    "\n",
    "rf.fit(X_train_rf,y_train)\n",
    "\n",
    "ypred_train = rf.predict(X_train_rf)\n",
    "ypred_test = rf.predict(X_test_rf)\n",
    "\n",
    "\n",
    "print(\"Train Accuracy:\",accuracy_score(y_train,ypred_train))\n",
    "print(\"Cross Validation Score:\",cross_val_score(rf,X_train_rf,y_train,cv=5,scoring='accuracy'))\n",
    "print(\"Test Accuracy:\",accuracy_score(y_test,ypred_test))"
   ]
  },
  {
   "cell_type": "markdown",
   "id": "810e81c5",
   "metadata": {},
   "source": [
    "### 6.AdaBoost Classifier"
   ]
  },
  {
   "cell_type": "code",
   "execution_count": 65,
   "id": "50a893f6",
   "metadata": {},
   "outputs": [
    {
     "name": "stdout",
     "output_type": "stream",
     "text": [
      "Train Accuracy: 0.9976359338061466\n",
      "Cross Validation Score: [0.81176471 0.77647059 0.82352941 0.79761905 0.8452381 ]\n",
      "Test Accuracy: 0.7641509433962265\n"
     ]
    }
   ],
   "source": [
    "from sklearn.ensemble import AdaBoostClassifier\n",
    "\n",
    "estimator = AdaBoostClassifier(random_state=rs)\n",
    "\n",
    "param_grid = {'n_estimators':list(range(1,51))}\n",
    "\n",
    "from sklearn.model_selection import GridSearchCV\n",
    "ab_grid = GridSearchCV(estimator,param_grid,scoring='accuracy',cv=5)\n",
    "ab_grid.fit(X_train,y_train)\n",
    "\n",
    "\n",
    "ab = ab_grid.best_estimator_\n",
    "ab_fi = ab.feature_importances_\n",
    "\n",
    "index  = [i for i,x in enumerate(ab_fi) if x>0]\n",
    "\n",
    "X_train_ab = X_train.iloc[:,index]\n",
    "X_test_ab = X_test.iloc[:,index]\n",
    "\n",
    "ab.fit(X_train_ab,y_train)\n",
    "\n",
    "ypred_train_ab = ab.predict(X_train_ab)\n",
    "ypred_test_ab =  ab.predict(X_test_ab)\n",
    "\n",
    "print(\"Train Accuracy:\",accuracy_score(y_train,ypred_train))\n",
    "print(\"Cross Validation Score:\",cross_val_score(ab,X_train_ab,y_train,cv=5,scoring='accuracy'))\n",
    "print(\"Test Accuracy:\",accuracy_score(y_test,ypred_test))\n"
   ]
  },
  {
   "cell_type": "markdown",
   "id": "cf163d55",
   "metadata": {},
   "source": [
    "# 7.Gradient Boost Classifier"
   ]
  },
  {
   "cell_type": "code",
   "execution_count": 66,
   "id": "d08ba246",
   "metadata": {},
   "outputs": [
    {
     "name": "stdout",
     "output_type": "stream",
     "text": [
      "Train Accuracy: 0.8156028368794326\n",
      "Cross Validation Score: [0.8        0.76470588 0.82352941 0.79761905 0.8452381 ]\n",
      "Test Accuracy: 0.8301886792452831\n"
     ]
    }
   ],
   "source": [
    "from sklearn.ensemble import GradientBoostingClassifier\n",
    "\n",
    "estimator = GradientBoostingClassifier(random_state=rs)\n",
    "param_grid ={'n_estimators':list(range(1,10)),\"learning_rate\":[0.1,0.2,0.3,0.4,0.5]}\n",
    "\n",
    "\n",
    "from sklearn.model_selection import GridSearchCV\n",
    "gb_grid = GridSearchCV(estimator,param_grid,scoring='accuracy',cv=5)\n",
    "gb_grid.fit(X_train,y_train)\n",
    "\n",
    "gb = gb_grid.best_estimator_\n",
    "gb_fi = gb.feature_importances_\n",
    "\n",
    "index = [i for i,x in enumerate(gb_fi) if x>0]\n",
    "\n",
    "X_train_gb = X_train.iloc[:,index]\n",
    "X_test_gb = X_test.iloc[:,index]\n",
    "\n",
    "gb.fit(X_train_gb,y_train)\n",
    "\n",
    "ypred_train = gb.predict(X_train_gb)\n",
    "ypred_test = gb.predict(X_test_gb)\n",
    "\n",
    "print(\"Train Accuracy:\",accuracy_score(y_train,ypred_train))\n",
    "print(\"Cross Validation Score:\",cross_val_score(gb,X_train_gb,y_train,cv=5,scoring='accuracy'))\n",
    "print(\"Test Accuracy:\",accuracy_score(y_test,ypred_test))"
   ]
  },
  {
   "cell_type": "code",
   "execution_count": 70,
   "id": "230627be",
   "metadata": {},
   "outputs": [
    {
     "name": "stdout",
     "output_type": "stream",
     "text": [
      "Requirement already satisfied: xgboost in c:\\users\\satis_asxzdl9\\anaconda3\\lib\\site-packages (2.0.2)\n",
      "Requirement already satisfied: numpy in c:\\users\\satis_asxzdl9\\anaconda3\\lib\\site-packages (from xgboost) (1.23.5)\n",
      "Requirement already satisfied: scipy in c:\\users\\satis_asxzdl9\\anaconda3\\lib\\site-packages (from xgboost) (1.11.1)\n"
     ]
    }
   ],
   "source": [
    "!pip install xgboost"
   ]
  },
  {
   "cell_type": "markdown",
   "id": "3b3f6c4c",
   "metadata": {},
   "source": [
    "### 8.XGBOOSt Classifier"
   ]
  },
  {
   "cell_type": "code",
   "execution_count": 72,
   "id": "c4f7a681",
   "metadata": {},
   "outputs": [
    {
     "name": "stdout",
     "output_type": "stream",
     "text": [
      "Train Accuracy: 0.7139479905437353\n",
      "Cross validation score: 0.6714285714285715\n",
      "Test Accuracy: 0.6698113207547169\n"
     ]
    }
   ],
   "source": [
    "from xgboost import XGBClassifier\n",
    "estimator =XGBClassifier(random_state=rs)\n",
    "param_grid = {\"n_estimators\":[10,20,40,100],'max_depth':[3,4,5],'gamma':[0,0.15,0.3]}\n",
    "\n",
    "from sklearn.model_selection import GridSearchCV\n",
    "xgb_grid =GridSearchCV(estimator,param_grid,scoring=\"accuracy\",cv =5)\n",
    "xgb_grid.fit(x_train,y_train)\n",
    "\n",
    "xgb = xgb_grid.best_estimator_\n",
    "\n",
    "xgb_fi =xgb.feature_importances_\n",
    "\n",
    "index =[i for i,x in enumerate(xgb_fi) if x>0]\n",
    "\n",
    "x_train_xgb =x_train.iloc[:,index]\n",
    "x_test_xgb =x_test.iloc[:,index]\n",
    "\n",
    "xgb.fit(x_train_xgb,y_train)\n",
    "\n",
    "\n",
    "ypred_train = xgb.predict(x_train_xgb)\n",
    "ypred_test =xgb.predict(x_test_xgb)\n",
    "\n",
    "\n",
    "print(\"Train Accuracy:\",accuracy_score(y_train,ypred_train))\n",
    "print(\"Cross validation score:\",cross_val_score(xgb,x_train_xgb,y_train,cv =5,scoring='accuracy').mean())\n",
    "print(\"Test Accuracy:\",accuracy_score(y_test,ypred_test))"
   ]
  },
  {
   "cell_type": "code",
   "execution_count": null,
   "id": "49779c3e",
   "metadata": {},
   "outputs": [],
   "source": []
  }
 ],
 "metadata": {
  "kernelspec": {
   "display_name": "Python 3 (ipykernel)",
   "language": "python",
   "name": "python3"
  },
  "language_info": {
   "codemirror_mode": {
    "name": "ipython",
    "version": 3
   },
   "file_extension": ".py",
   "mimetype": "text/x-python",
   "name": "python",
   "nbconvert_exporter": "python",
   "pygments_lexer": "ipython3",
   "version": "3.11.5"
  }
 },
 "nbformat": 4,
 "nbformat_minor": 5
}
